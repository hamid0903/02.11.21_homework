{
  "nbformat": 4,
  "nbformat_minor": 0,
  "metadata": {
    "colab": {
      "name": "Копия блокнота \"Scatter (Text, title, legend). Homework.ipynb\"",
      "provenance": [],
      "collapsed_sections": [],
      "toc_visible": true,
      "include_colab_link": true
    },
    "kernelspec": {
      "name": "python3",
      "display_name": "Python 3"
    },
    "language_info": {
      "name": "python"
    }
  },
  "cells": [
    {
      "cell_type": "markdown",
      "metadata": {
        "id": "view-in-github",
        "colab_type": "text"
      },
      "source": [
        "<a href=\"https://colab.research.google.com/github/hamid0903/02.11.21_homework/blob/master/%D0%9A%D0%BE%D0%BF%D0%B8%D1%8F_%D0%B1%D0%BB%D0%BE%D0%BA%D0%BD%D0%BE%D1%82%D0%B0_%22Scatter_%2B%2B%2B(Text%2C_title%2C_legend)_Homework_ipynb%22.ipynb\" target=\"_parent\"><img src=\"https://colab.research.google.com/assets/colab-badge.svg\" alt=\"Open In Colab\"/></a>"
      ]
    },
    {
      "cell_type": "markdown",
      "metadata": {
        "id": "vcZ4N5DFk4c3"
      },
      "source": [
        "# Scatter text, legend, grid"
      ]
    },
    {
      "cell_type": "code",
      "metadata": {
        "id": "qrdkkwXflQc2"
      },
      "source": [
        "import matplotlib.pyplot as plt"
      ],
      "execution_count": null,
      "outputs": []
    },
    {
      "cell_type": "markdown",
      "metadata": {
        "id": "bTbohecVr7S4"
      },
      "source": [
        "## Text in Matplotlib in plots\n"
      ]
    },
    {
      "cell_type": "code",
      "metadata": {
        "colab": {
          "base_uri": "https://localhost:8080/",
          "height": 285
        },
        "id": "LnDWbqjhtoS3",
        "outputId": "47aa2917-56b1-43af-80fa-a118619022cd"
      },
      "source": [
        "def plot_title(x,y):\n",
        "  '''\n",
        "  Parameters: x and y axis points;\n",
        "  '''\n",
        "  # Write the code here\n",
        "\n",
        "  plt.title(\n",
        "      label=\"Point coordinates\",\n",
        "      loc='center',\n",
        "      color='red',\n",
        "      fontsize=20\n",
        "      )\n",
        "  plt.scatter(x,y)\n",
        "  plt.show()\n",
        "plot_title(4,3)"
      ],
      "execution_count": null,
      "outputs": [
        {
          "output_type": "display_data",
          "data": {
            "image/png": "[encoded data removed]",
            "text/plain": [
              "<Figure size 432x288 with 1 Axes>"
            ]
          },
          "metadata": {
            "needs_background": "light"
          }
        }
      ]
    },
    {
      "cell_type": "markdown",
      "metadata": {
        "id": "zlegZmkLtnUr"
      },
      "source": [
        "### Title of plot\n",
        "10. Insert Title of your plot as \"Point coordinates\"(Chizmaning sarlavhasini \"Point coordinates\" deb nomlang)"
      ]
    },
    {
      "cell_type": "markdown",
      "metadata": {
        "id": "qS9Lf5lOulNR"
      },
      "source": [
        "### Text in the plot\n",
        "11. Print text(Full Name) in the plot (chizmada matnni(to'liq ismingizni) chop eting)"
      ]
    },
    {
      "cell_type": "code",
      "metadata": {
        "colab": {
          "base_uri": "https://localhost:8080/",
          "height": 264
        },
        "id": "7tIizjjBumaq",
        "outputId": "375c725c-975a-4cc2-9df4-5074940ed811"
      },
      "source": [
        "def text_in_plot(x,y):\n",
        "  '''\n",
        "  Parameters: x and y axis points;\n",
        "  '''\n",
        "  # Write the code here\n",
        "  plt.scatter(x,y)\n",
        "  plt.text(x,y,\n",
        "           'KHAMID KAMALOV',\n",
        "           color='blue',\n",
        "           fontsize=18\n",
        "  )\n",
        "  plt.show()\n",
        "text_in_plot(3,4)"
      ],
      "execution_count": null,
      "outputs": [
        {
          "output_type": "display_data",
          "data": {
            "image/png": "[encoded data removed]",
            "text/plain": [
              "<Figure size 432x288 with 1 Axes>"
            ]
          },
          "metadata": {
            "needs_background": "light"
          }
        }
      ]
    },
    {
      "cell_type": "markdown",
      "metadata": {
        "id": "sQRckSR6wEF7"
      },
      "source": [
        "12. Inserting coordinates for each points (har bir nuqta uchun kordinatalarni kiriting)"
      ]
    },
    {
      "cell_type": "code",
      "metadata": {
        "colab": {
          "base_uri": "https://localhost:8080/",
          "height": 265
        },
        "id": "gwWiyC0gwGNr",
        "outputId": "2cd03b6f-8166-4d62-d951-3e9752aa36a1"
      },
      "source": [
        "def each_point_style_size_color_cor(x,y,color,style,size):\n",
        "  '''\n",
        "  Parameters: x and y axis points list;\n",
        "  '''\n",
        "  # Write the code here\n",
        "  plt.show()"
      ],
      "execution_count": null,
      "outputs": [
        {
          "output_type": "display_data",
          "data": {
            "image/png": "[encoded data removed]",
            "text/plain": [
              "<Figure size 432x288 with 1 Axes>"
            ]
          },
          "metadata": {
            "tags": [],
            "needs_background": "light"
          }
        }
      ]
    },
    {
      "cell_type": "markdown",
      "metadata": {
        "id": "2mUqdJCnvSGN"
      },
      "source": [
        "### Name of Axis\n",
        "13. Insert name of Axises (O'qlarning nomini kiriting)"
      ]
    },
    {
      "cell_type": "code",
      "metadata": {
        "colab": {
          "base_uri": "https://localhost:8080/",
          "height": 304
        },
        "id": "rnSO5ULUvS8I",
        "outputId": "e2c120dd-66ce-4e64-df53-b5fe13398ede"
      },
      "source": [
        "def x_y_label(x,y):\n",
        "  '''\n",
        "  Parameters: x and y axis points;\n",
        "  '''\n",
        "  # Write the code here\n",
        "  plt.show()"
      ],
      "execution_count": null,
      "outputs": [
        {
          "output_type": "display_data",
          "data": {
            "image/png": "[encoded data removed]",
            "text/plain": [
              "<Figure size 432x288 with 1 Axes>"
            ]
          },
          "metadata": {
            "tags": [],
            "needs_background": "light"
          }
        }
      ]
    },
    {
      "cell_type": "markdown",
      "metadata": {
        "id": "3PZZVaqL0IUc"
      },
      "source": [
        "### Legend\n",
        "14. Adding legend(description of data) for your plot (Chizmangizga legend (ma'lumotlar tavsifi) qo'shing)"
      ]
    },
    {
      "cell_type": "code",
      "metadata": {
        "colab": {
          "base_uri": "https://localhost:8080/",
          "height": 265
        },
        "id": "TAE8x77g0JEV",
        "outputId": "00809582-cb90-4e2a-cdba-4e15a8a91ac1"
      },
      "source": [
        "def legend_of_data(x,y):\n",
        "  '''\n",
        "  Parameters: x and y axis points list;\n",
        "  '''\n",
        "  # Write the code here\n",
        "  plt.show()"
      ],
      "execution_count": null,
      "outputs": [
        {
          "output_type": "display_data",
          "data": {
            "image/png": "[encoded data removed]",
            "text/plain": [
              "<Figure size 432x288 with 1 Axes>"
            ]
          },
          "metadata": {
            "tags": [],
            "needs_background": "light"
          }
        }
      ]
    },
    {
      "cell_type": "markdown",
      "metadata": {
        "id": "KRo3NK8T1-Vs"
      },
      "source": [
        "## Grid\n",
        "15. Adding grid for your plot (Chizmangiz uchun grid(katak) qo'shing)"
      ]
    },
    {
      "cell_type": "code",
      "metadata": {
        "colab": {
          "base_uri": "https://localhost:8080/",
          "height": 265
        },
        "id": "CitblrYF1_OR",
        "outputId": "7a999f09-80ef-49df-9599-5a8b5dfb6122"
      },
      "source": [
        "\n",
        "def plot_grid(x,y,color,style,size):\n",
        "  '''\n",
        "  Parameters: x and y axis points list;\n",
        "  '''\n",
        "  # Write the code here\n",
        "  plt.show()"
      ],
      "execution_count": null,
      "outputs": [
        {
          "output_type": "display_data",
          "data": {
            "image/png": "[encoded data removed]",
            "text/plain": [
              "<Figure size 432x288 with 1 Axes>"
            ]
          },
          "metadata": {
            "tags": [],
            "needs_background": "light"
          }
        }
      ]
    }
  ]
}