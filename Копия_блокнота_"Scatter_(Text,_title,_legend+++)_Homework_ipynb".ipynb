{
  "nbformat": 4,
  "nbformat_minor": 0,
  "metadata": {
    "colab": {
      "name": "Копия блокнота \"Scatter (Text, title, legend). Homework.ipynb\"",
      "provenance": [],
      "collapsed_sections": [],
      "toc_visible": true,
      "include_colab_link": true
    },
    "kernelspec": {
      "name": "python3",
      "display_name": "Python 3"
    },
    "language_info": {
      "name": "python"
    }
  },
  "cells": [
    {
      "cell_type": "markdown",
      "metadata": {
        "id": "view-in-github",
        "colab_type": "text"
      },
      "source": [
        "<a href=\"https://colab.research.google.com/github/hamid0903/02.11.21_homework/blob/master/%D0%9A%D0%BE%D0%BF%D0%B8%D1%8F_%D0%B1%D0%BB%D0%BE%D0%BA%D0%BD%D0%BE%D1%82%D0%B0_%22Scatter_(Text%2C_title%2C_legend%2B%2B%2B)_Homework_ipynb%22.ipynb\" target=\"_parent\"><img src=\"https://colab.research.google.com/assets/colab-badge.svg\" alt=\"Open In Colab\"/></a>"
      ]
    },
    {
      "cell_type": "markdown",
      "metadata": {
        "id": "vcZ4N5DFk4c3"
      },
      "source": [
        "# Scatter text, legend, grid"
      ]
    },
    {
      "cell_type": "code",
      "metadata": {
        "id": "qrdkkwXflQc2"
      },
      "source": [
        "import matplotlib.pyplot as plt"
      ],
      "execution_count": null,
      "outputs": []
    },
    {
      "cell_type": "markdown",
      "metadata": {
        "id": "bTbohecVr7S4"
      },
      "source": [
        "## Text in Matplotlib in plots\n"
      ]
    },
    {
      "cell_type": "code",
      "metadata": {
        "colab": {
          "base_uri": "https://localhost:8080/",
          "height": 285
        },
        "id": "LnDWbqjhtoS3",
        "outputId": "47aa2917-56b1-43af-80fa-a118619022cd"
      },
      "source": [
        "def plot_title(x,y):\n",
        "  '''\n",
        "  Parameters: x and y axis points;\n",
        "  '''\n",
        "  # Write the code here\n",
        "\n",
        "  plt.title(\n",
        "      label=\"Point coordinates\",\n",
        "      loc='center',\n",
        "      color='red',\n",
        "      fontsize=20\n",
        "      )\n",
        "  plt.scatter(x,y)\n",
        "  plt.show()\n",
        "plot_title(4,3)"
      ],
      "execution_count": null,
      "outputs": [
        {
          "output_type": "display_data",
          "data": {
            "image/png": "[encoded data removed]",
            "text/plain": [
              "<Figure size 432x288 with 1 Axes>"
            ]
          },
          "metadata": {
            "needs_background": "light"
          }
        }
      ]
    },
    {
      "cell_type": "markdown",
      "metadata": {
        "id": "zlegZmkLtnUr"
      },
      "source": [
        "### Title of plot\n",
        "10. Insert Title of your plot as \"Point coordinates\"(Chizmaning sarlavhasini \"Point coordinates\" deb nomlang)"
      ]
    },
    {
      "cell_type": "markdown",
      "metadata": {
        "id": "qS9Lf5lOulNR"
      },
      "source": [
        "### Text in the plot\n",
        "11. Print text(Full Name) in the plot (chizmada matnni(to'liq ismingizni) chop eting)"
      ]
    },
    {
      "cell_type": "code",
      "metadata": {
        "colab": {
          "base_uri": "https://localhost:8080/",
          "height": 264
        },
        "id": "7tIizjjBumaq",
        "outputId": "214c12af-0e64-400c-8821-4c2d0aca32e2"
      },
      "source": [
        "def text_in_plot(x,y):\n",
        "  '''\n",
        "  Parameters: x and y axis points;\n",
        "  '''\n",
        "  # Write the code here\n",
        "  plt.scatter(x,y,color='white')\n",
        "  plt.text(x+0.001,y,\n",
        "           'KHAMID KAMALOV',\n",
        "           color='blue',\n",
        "           fontsize=18\n",
        "  )\n",
        "  plt.show()\n",
        "text_in_plot(3,4)"
      ],
      "execution_count": null,
      "outputs": [
        {
          "output_type": "display_data",
          "data": {
            "image/png": "[encoded data removed]",
            "text/plain": [
              "<Figure size 432x288 with 1 Axes>"
            ]
          },
          "metadata": {
            "needs_background": "light"
          }
        }
      ]
    },
    {
      "cell_type": "markdown",
      "metadata": {
        "id": "sQRckSR6wEF7"
      },
      "source": [
        "12. Inserting coordinates for each points (har bir nuqta uchun kordinatalarni kiriting)"
      ]
    },
    {
      "cell_type": "code",
      "metadata": {
        "colab": {
          "base_uri": "https://localhost:8080/",
          "height": 264
        },
        "id": "gwWiyC0gwGNr",
        "outputId": "7a75cde5-ee54-42f4-b04d-1938701cdd4c"
      },
      "source": [
        "def each_point_style_size_color_cor(x,y,color,style,size):\n",
        "  '''\n",
        "  Parameters: x and y axis points list;\n",
        "  '''\n",
        "  # Write the code here\n",
        "data_x=[3,2,4,10,1]\n",
        "data_y=[6,4,3,7,2]\n",
        "data_color=['green','orange','red','m','blue']\n",
        "data_marker=['s','p','v','*','+']\n",
        "for data_x,data_y,data_marker,data_color in zip(data_x,data_y,data_marker,data_color):\n",
        "  plt.scatter(x=data_x,y=data_y,marker=data_marker,c=data_color,s=100)\n",
        "  plt.text(data_x+0.1,data_y-0.1, f'({data_x};{data_y})')\n",
        "\n",
        "plt.show()\n",
        "each_point_style_size_color_cor(x=data_x,y=data_y,style=data_marker,color=data_color,size=100)"
      ],
      "execution_count": null,
      "outputs": [
        {
          "output_type": "display_data",
          "data": {
            "image/png": "[encoded data removed]",
            "text/plain": [
              "<Figure size 432x288 with 1 Axes>"
            ]
          },
          "metadata": {
            "needs_background": "light"
          }
        }
      ]
    },
    {
      "cell_type": "markdown",
      "metadata": {
        "id": "2mUqdJCnvSGN"
      },
      "source": [
        "### Name of Axis\n",
        "13. Insert name of Axises (O'qlarning nomini kiriting)"
      ]
    },
    {
      "cell_type": "code",
      "metadata": {
        "colab": {
          "base_uri": "https://localhost:8080/",
          "height": 287
        },
        "id": "rnSO5ULUvS8I",
        "outputId": "104bd549-21fc-4ae9-f4cf-12622d773170"
      },
      "source": [
        "def x_y_label(x,y):\n",
        "  '''\n",
        "  Parameters: x and y axis points;\n",
        "  '''\n",
        "  # Write the code here\n",
        "  plt.scatter(x,y,color='red')\n",
        "  plt.xlabel('X-axis',color='m',fontsize=20)\n",
        "  plt.ylabel('Y-axis',color='m',fontsize=20)\n",
        "  plt.show()\n",
        "x_y_label(3,4)"
      ],
      "execution_count": null,
      "outputs": [
        {
          "output_type": "display_data",
          "data": {
            "image/png": "[encoded data removed]",
            "text/plain": [
              "<Figure size 432x288 with 1 Axes>"
            ]
          },
          "metadata": {
            "needs_background": "light"
          }
        }
      ]
    },
    {
      "cell_type": "markdown",
      "metadata": {
        "id": "3PZZVaqL0IUc"
      },
      "source": [
        "### Legend\n",
        "14. Adding legend(description of data) for your plot (Chizmangizga legend (ma'lumotlar tavsifi) qo'shing)"
      ]
    },
    {
      "cell_type": "code",
      "metadata": {
        "colab": {
          "base_uri": "https://localhost:8080/",
          "height": 264
        },
        "id": "TAE8x77g0JEV",
        "outputId": "205053c4-4951-4aa2-93b7-6797aa7c13e8"
      },
      "source": [
        "def legend_of_data(x,y):\n",
        "  '''\n",
        "  Parameters: x and y axis points list;\n",
        "  '''\n",
        "  # Write the code here\n",
        "  plt.scatter(1,2,color='c',label='cyan')\n",
        "  plt.scatter(4,4,color='m',label='magenta')\n",
        "  plt.scatter(2,3,color='r',label='red')\n",
        " \n",
        "  plt.legend()\n",
        "  plt.show()  \n",
        "legend_of_data([1,2,4],[2,3,4])"
      ],
      "execution_count": null,
      "outputs": [
        {
          "output_type": "display_data",
          "data": {
            "image/png": "[encoded data removed]",
            "text/plain": [
              "<Figure size 432x288 with 1 Axes>"
            ]
          },
          "metadata": {
            "needs_background": "light"
          }
        }
      ]
    },
    {
      "cell_type": "markdown",
      "metadata": {
        "id": "KRo3NK8T1-Vs"
      },
      "source": [
        "## Grid\n",
        "15. Adding grid for your plot (Chizmangiz uchun grid(katak) qo'shing)"
      ]
    },
    {
      "cell_type": "code",
      "metadata": {
        "colab": {
          "base_uri": "https://localhost:8080/",
          "height": 264
        },
        "id": "CitblrYF1_OR",
        "outputId": "bc07e057-c53f-4a49-b2c3-9b4e2c56502d"
      },
      "source": [
        "\n",
        "def plot_grid(x,y,color,style,size):\n",
        "  '''\n",
        "  Parameters: x and y axis points list;\n",
        "  '''\n",
        "  # Write the code here\n",
        "  data_x=[3,2,4,10,1]\n",
        "  data_y=[6,4,3,7,2]\n",
        "  data_color=['green','orange','red','m','blue']\n",
        "  data_marker=['s','p','v','*','+']\n",
        "  for data_x,data_y,data_marker,data_color in zip(data_x,data_y,data_marker,data_color):\n",
        "    plt.scatter(x=data_x,y=data_y,marker=data_marker,c=data_color,s=100)\n",
        "    plt.text(data_x+0.1,data_y-0.1, f'({data_x};{data_y})')\n",
        "  plt.grid(visible=True)  \n",
        "  plt.show()\n",
        "plot_grid(x=data_x,y=data_y,style=data_marker,color=data_color,size=80)"
      ],
      "execution_count": null,
      "outputs": [
        {
          "output_type": "display_data",
          "data": {
            "image/png": "[encoded data removed]",
            "text/plain": [
              "<Figure size 432x288 with 1 Axes>"
            ]
          },
          "metadata": {
            "needs_background": "light"
          }
        }
      ]
    }
  ]
}